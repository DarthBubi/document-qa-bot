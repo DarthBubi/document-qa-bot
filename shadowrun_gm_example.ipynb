{
 "cells": [
  {
   "cell_type": "code",
   "execution_count": null,
   "metadata": {},
   "outputs": [],
   "source": [
    "import os\n",
    "\n",
    "from langchain.chains import RetrievalQA\n",
    "from langchain.document_loaders import PyPDFLoader\n",
    "from langchain.embeddings import HuggingFaceInstructEmbeddings\n",
    "from langchain.embeddings.openai import OpenAIEmbeddings\n",
    "from langchain.chat_models import ChatOpenAI\n",
    "from langchain.vectorstores import Chroma\n",
    "\n",
    "\n",
    "from dotenv import load_dotenv\n",
    "\n",
    "load_dotenv()"
   ]
  },
  {
   "cell_type": "code",
   "execution_count": null,
   "metadata": {},
   "outputs": [],
   "source": [
    "# import torch\n",
    "\n",
    "loader = PyPDFLoader(os.environ[\"DOCUMENT_PATH\"])\n",
    "documents = loader.load_and_split()\n",
    "\n",
    "embeddings = OpenAIEmbeddings()\n",
    "docsearch = Chroma.from_documents(documents, embeddings)\n",
    "# device = torch.device(\"cuda:0\" if torch.cuda.is_available() else \"cpu\")\n",
    "\n",
    "# embeddings = HuggingFaceInstructEmbeddings(\n",
    "#     query_instruction=\"Represent the query for retrieval: \"\n",
    "# )\n",
    "# embedded_docs = embeddings.embed_documents(documents)\n",
    "# docsearch = Chroma.from_embedded_documents(embedded_docs)\n"
   ]
  },
  {
   "cell_type": "code",
   "execution_count": null,
   "metadata": {},
   "outputs": [],
   "source": [
    "qa = RetrievalQA.from_chain_type(llm=ChatOpenAI(model_name=\"gpt-4-1106-preview\", temperature=0.0), \n",
    "                                 chain_type=\"stuff\", \n",
    "                                 retriever=docsearch.as_retriever(search_type=\"mmr\", search_kwargs={'k': 5, 'fetch_k': 50}),\n",
    "                                 return_source_documents=True)"
   ]
  },
  {
   "cell_type": "code",
   "execution_count": null,
   "metadata": {},
   "outputs": [],
   "source": [
    "from langchain.prompts import PromptTemplate\n",
    "\n",
    "prompt_template = PromptTemplate.from_template(\"Du bist ein erfahener Shadowrun Spielleiter und beantwortest Fragen zu den Regeln wahrheitsgemäß. Du spielst die 5. Edition der Regeln. Wenn du etwas nicht weißt, antworte entsprechend.{query}\")\n",
    "\n",
    "query = \"Kann ich mit einer Nahkampf- und Fernkampfwaffe gleichzeitig angreifen, wenn der Charakter den Vorteil Beidhändig hat?\"\n",
    "query = prompt_template.format(query=query)\n",
    "results = qa(query)\n",
    "results"
   ]
  },
  {
   "cell_type": "code",
   "execution_count": null,
   "metadata": {},
   "outputs": [],
   "source": [
    "query = \"Wie funktioniert Rückstoß?\"\n",
    "\n",
    "query = prompt_template.format(query=query)\n",
    "results = qa(query)\n",
    "results"
   ]
  }
 ],
 "metadata": {
  "kernelspec": {
   "display_name": "documents-qa-35sMI1hU-py3.10",
   "language": "python",
   "name": "python3"
  },
  "language_info": {
   "codemirror_mode": {
    "name": "ipython",
    "version": 3
   },
   "file_extension": ".py",
   "mimetype": "text/x-python",
   "name": "python",
   "nbconvert_exporter": "python",
   "pygments_lexer": "ipython3",
   "version": "3.10.12"
  }
 },
 "nbformat": 4,
 "nbformat_minor": 2
}
